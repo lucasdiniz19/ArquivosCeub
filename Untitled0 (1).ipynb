{
  "nbformat": 4,
  "nbformat_minor": 0,
  "metadata": {
    "colab": {
      "provenance": []
    },
    "kernelspec": {
      "name": "python3",
      "display_name": "Python 3"
    },
    "language_info": {
      "name": "python"
    }
  },
  "cells": [
    {
      "cell_type": "code",
      "execution_count": null,
      "metadata": {
        "colab": {
          "base_uri": "https://localhost:8080/"
        },
        "id": "noSAE0_n--YD",
        "outputId": "c74e6442-83f8-4a64-f45e-d66a61e94df0"
      },
      "outputs": [
        {
          "output_type": "stream",
          "name": "stdout",
          "text": [
            "Digite seu primeiro nome: lucas\n",
            "Digite seu sobrenome: diniz \n",
            "Seu nome completo é: lucas diniz \n"
          ]
        }
      ],
      "source": [
        "primeiro_nome = input(\"Digite seu primeiro nome: \")\n",
        "sobrenome = input(\"Digite seu sobrenome: \")\n",
        "\n",
        "print(\"Seu nome completo é:\", primeiro_nome, sobrenome)\n"
      ]
    },
    {
      "cell_type": "code",
      "source": [],
      "metadata": {
        "id": "fPAMoOIAb9et"
      },
      "execution_count": null,
      "outputs": []
    },
    {
      "cell_type": "code",
      "source": [],
      "metadata": {
        "id": "oGpeMXm2_jcp"
      },
      "execution_count": null,
      "outputs": []
    },
    {
      "source": [
        "print(\"x         x\")\n",
        "print(\" x      x  \")\n",
        "print(\"  X   x    \")\n",
        "print(\"    x      \")\n",
        "print(\"   x  x    \")\n",
        "print(\" x      x  \")\n",
        "print(\"x         x\")"
      ],
      "cell_type": "code",
      "metadata": {
        "colab": {
          "base_uri": "https://localhost:8080/"
        },
        "id": "2oUXHM5hAoBd",
        "outputId": "a8fc98ca-90b0-47d1-bb2f-5ef6ba8eb104"
      },
      "execution_count": null,
      "outputs": [
        {
          "output_type": "stream",
          "name": "stdout",
          "text": [
            "x            x \n",
            "  x         x    \n",
            "    X    x       \n",
            "      x         \n",
            "     x   x           \n",
            "   x        x        \n",
            " x            x     \n"
          ]
        }
      ]
    },
    {
      "cell_type": "code",
      "source": [],
      "metadata": {
        "id": "q7YME4U0E-Ik"
      },
      "execution_count": null,
      "outputs": []
    },
    {
      "source": [
        "preco_original = float(input(\"Digite o preço original do produto: \"))\n",
        "\n",
        "desconto = preco_original * 0.20\n",
        "preco_com_desconto = preco_original - desconto\n",
        "\n",
        "print(\"Preço original: R$\", preco_original)\n",
        "print(\"Você ganhou R$\", desconto, \"de desconto.\")\n",
        "print(\"Preço com desconto: R$\", preco_com_desconto)"
      ],
      "cell_type": "code",
      "metadata": {
        "colab": {
          "base_uri": "https://localhost:8080/"
        },
        "id": "Kt9Q1SkzBVsV",
        "outputId": "ad6f1c34-9484-4248-86c3-770e1a57a7a2"
      },
      "execution_count": null,
      "outputs": [
        {
          "output_type": "stream",
          "name": "stdout",
          "text": [
            "Digite o preço original do produto: 3200\n",
            "Preço original: R$ 3200.0\n",
            "Você ganhou R$ 640.0 de desconto.\n",
            "Preço com desconto: R$ 2560.0\n"
          ]
        }
      ]
    },
    {
      "source": [
        "preco_original = float(input(\"Digite o preço original do produto: \"))\n",
        "porcentagem_desconto = float(input(\"Digite a porcentagem de desconto: \"))\n",
        "\n",
        "desconto = preco_original * (porcentagem_desconto / 100)\n",
        "preco_com_desconto = preco_original - desconto\n",
        "\n",
        "print(\"Preço original: R$\", preco_original)\n",
        "print(\"Você ganhou R$\", desconto, \"de desconto.\")\n",
        "print(\"Preço com desconto: R$\", preco_com_desconto)"
      ],
      "cell_type": "code",
      "metadata": {
        "id": "D6_fdqPXBWql"
      },
      "execution_count": null,
      "outputs": []
    },
    {
      "source": [
        "valor1 = float(input(\"Digite o primeiro valor: \"))\n",
        "valor2 = float(input(\"Digite o segundo valor: \"))\n",
        "valor3 = float(input(\"Digite o terceiro valor: \"))\n",
        "\n",
        "media = (valor1 + valor2 + valor3) / 3\n",
        "\n",
        "print(\"A média aritmética dos valores é:\", media)"
      ],
      "cell_type": "code",
      "metadata": {
        "colab": {
          "base_uri": "https://localhost:8080/"
        },
        "id": "FDbOEixYBXYN",
        "outputId": "e0affe17-d32a-44a5-c015-93bf0bc2be75"
      },
      "execution_count": null,
      "outputs": [
        {
          "output_type": "stream",
          "name": "stdout",
          "text": [
            "Digite o primeiro valor: 55\n",
            "Digite o segundo valor: 76\n",
            "Digite o terceiro valor: 68\n",
            "A média aritmética dos valores é: 66.33333333333333\n"
          ]
        }
      ]
    },
    {
      "cell_type": "code",
      "source": [],
      "metadata": {
        "id": "CntQA_4fCQpi"
      },
      "execution_count": null,
      "outputs": []
    },
    {
      "source": [
        "import math\n",
        "\n",
        "valor1 = float(input(\"Digite o primeiro valor positivo: \"))\n",
        "valor2 = float(input(\"Digite o segundo valor positivo: \"))\n",
        "valor3 = float(input(\"Digite o terceiro valor positivo: \"))\n",
        "valor4 = float(input(\"Digite o quarto valor positivo: \"))\n",
        "\n",
        "\n",
        "media_aritmetica = (valor1 + valor2 + valor3 + valor4) / 4\n",
        "\n",
        "media_geometrica = math.pow(valor1 * valor2 * valor3 * valor4, 1/4)\n",
        "media_harmonica = 4 / (1/valor1 + 1/valor2 + 1/valor3 + 1/valor4)\n",
        "\n",
        "print(\"Média aritmética simples:\", media_aritmetica)\n",
        "print(\"Média geométrica:\", media_geometrica)\n",
        "print(\"Média harmônica:\", media_harmonica)"
      ],
      "cell_type": "code",
      "metadata": {
        "id": "ydG9gaKycNyN"
      },
      "execution_count": null,
      "outputs": []
    },
    {
      "source": [
        "\n",
        "num1 = int(input(\"Digite o primeiro número inteiro: \"))\n",
        "num2 = int(input(\"Digite o segundo número inteiro: \"))\n",
        "num3 = int(input(\"Digite o terceiro número inteiro: \"))\n",
        "\n",
        "\n",
        "maior_numero = max(num1, num2, num3)\n",
        "\n",
        "\n",
        "print(\"O maior número é:\", maior_numero)"
      ],
      "cell_type": "code",
      "metadata": {
        "id": "ryWplhmpcioj"
      },
      "execution_count": null,
      "outputs": []
    },
    {
      "source": [
        "\n",
        "num1 = int(input(\"Digite o primeiro número inteiro: \"))\n",
        "num2 = int(input(\"Digite o segundo número inteiro: \"))\n",
        "num3 = int(input(\"Digite o terceiro número inteiro: \"))\n",
        "\n",
        "\n",
        "numeros = [num1, num2, num3]\n",
        "numeros_ordenados = sorted(numeros)\n",
        "\n",
        "\n",
        "print(\"Números em ordem crescente:\", numeros_ordenados)"
      ],
      "cell_type": "code",
      "metadata": {
        "id": "LT5C7uWbcj_n"
      },
      "execution_count": null,
      "outputs": []
    },
    {
      "source": [
        "\n",
        "str1 = input(\"Digite a primeira string: \")\n",
        "str2 = input(\"Digite a segunda string: \")\n",
        "str3 = input(\"Digite a terceira string: \")\n",
        "\n",
        "strings = [str1, str2, str3]\n",
        "strings_ordenadas = sorted(strings)\n",
        "\n",
        "print(\"Strings em ordem alfabética:\", strings_ordenadas)"
      ],
      "cell_type": "code",
      "metadata": {
        "id": "U6wQwHQkckrT"
      },
      "execution_count": null,
      "outputs": []
    },
    {
      "source": [
        "\n",
        "sexo = input(\"Digite seu sexo (homem/mulher): \")\n",
        "peso = float(input(\"Digite seu peso em kg: \"))\n",
        "altura = float(input(\"Digite sua altura em cm: \"))\n",
        "idade = int(input(\"Digite sua idade em anos: \"))\n",
        "\n",
        "if sexo.lower() == \"homem\":\n",
        "    tmb = 66.47 + (13.75 * peso) + (5.003 * altura) - (6.755 * idade)\n",
        "elif sexo.lower() == \"mulher\":\n",
        "    tmb = 655.09 + (9.563 * peso) + (1.85 * altura) - (4.676 * idade)\n",
        "else:\n",
        "    print(\"Sexo inválido.\")\n",
        "    exit()\n",
        "\n",
        "\n",
        "print(\"Sua Taxa Metabólica Basal (TMB) é:\", tmb, \"calorias\")"
      ],
      "cell_type": "code",
      "metadata": {
        "id": "BmeTDcbWcmYL"
      },
      "execution_count": null,
      "outputs": []
    },
    {
      "source": [
        "\n",
        "numero = int(input(\"Digite um número inteiro: \"))\n",
        "\n",
        "\n",
        "print(\"Tabuada do\", numero, \":\")\n",
        "for i in range(1, 11):\n",
        "    print(numero, \"x\", i, \"=\", numero * i)"
      ],
      "cell_type": "code",
      "metadata": {
        "id": "wtmzqmuEcnYX"
      },
      "execution_count": null,
      "outputs": []
    }
  ]
}