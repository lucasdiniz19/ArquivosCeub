{
  "cells": [
    {
      "cell_type": "code",
      "execution_count": null,
      "metadata": {
        "id": "dCXhfiY6_dhg"
      },
      "outputs": [],
      "source": []
    },
    {
      "cell_type": "markdown",
      "metadata": {
        "id": "Z3kHxPgBOewf"
      },
      "source": [
        "## Para essa lista, não utilize nenhuma biblioteca ou funções não mostradas em sala"
      ]
    },
    {
      "cell_type": "code",
      "execution_count": null,
      "metadata": {
        "id": "Rnz5Jr6Z_ekQ"
      },
      "outputs": [],
      "source": []
    },
    {
      "cell_type": "markdown",
      "metadata": {
        "id": "jZB7Gg2ME8H3"
      },
      "source": [
        "1. Faça um programa que peça números inteiros ao usuário e calcula a média dos valores digitados. O programa deverá parar quando o usuário digitar um número negativo (que não deverá ser incluído no cálculo)."
      ]
    },
    {
      "cell_type": "code",
      "execution_count": null,
      "metadata": {
        "id": "RVOCoknL_ehW"
      },
      "outputs": [],
      "source": [
        "\n",
        "soma = 0\n",
        "contador = 0\n",
        "while True: \n",
        "    numero = int(input(\"Digite um número inteiro (ou um número negativo para sair): \"))\n",
        "    if numero < 0:\n",
        "        break\n",
        "    soma += numero\n",
        "    contador += 1\n",
        "if contador > 0:\n",
        "    media = soma / contador\n",
        "    print(f\"A média dos valores digitados é: {media}\")\n",
        "else:\n",
        "    print(\"Nenhum número válido foi digitado.\")\n"
      ]
    },
    {
      "cell_type": "markdown",
      "metadata": {
        "id": "AF_NBZD4E--E"
      },
      "source": [
        "2. Faça um programa que peça números inteiros ao usuário e conta quantos números positivos e quantos números negativos foram digitados. O programa deverá parar quando o número zero for digitado, mostrando a tela os resultados."
      ]
    },
    {
      "cell_type": "code",
      "execution_count": null,
      "metadata": {
        "id": "1l3CUBd-_eeg"
      },
      "outputs": [],
      "source": [
        "\n",
        "positivos = 0\n",
        "negativos = 0\n",
        "while True:\n",
        "    numero = int(input(\"Digite um número inteiro (digite 0 para parar): \"))\n",
        "    if numero == 0:\n",
        "        break\n",
        "    if numero > 0:\n",
        "        positivos += 1\n",
        "    elif numero < 0:\n",
        "        negativos += 1\n",
        "print(f\"Quantos números positivos foram digitados: {positivos}\")\n",
        "print(f\"Quantos números negativos foram digitados: {negativos}\")\n"
      ]
    },
    {
      "cell_type": "markdown",
      "metadata": {
        "id": "1b4ISCUnFDkJ"
      },
      "source": [
        "\n",
        "3. Faça um programa que peça uma nota, entre zero e dez. Mostre uma mensagem caso o valor seja inválido e continue pedindo até que o usuário informe um valor válido."
      ]
    },
    {
      "cell_type": "markdown",
      "metadata": {
        "id": "1eFkrfQsOpK4"
      },
      "source": []
    },
    {
      "cell_type": "code",
      "execution_count": null,
      "metadata": {
        "id": "Nop5MLGm_ebz"
      },
      "outputs": [],
      "source": [
        "\n",
        "while True:\n",
        "\n",
        "    nota = float(input(\"Digite uma nota entre 0 e 10: \"))\n",
        "    \n",
        "    if 0 <= nota <= 10:\n",
        "        print(\"Nota válida!\")\n",
        "        break  \n",
        "    else:\n",
        "        print(\"Nota inválida! Por favor, digite um valor entre 0 e 10.\")\n"
      ]
    },
    {
      "cell_type": "markdown",
      "metadata": {
        "id": "azFRtBFKFG89"
      },
      "source": [
        "\n",
        "4. Faça um programa que peça o valor total de um orçamento (valor igual ou maior do que R$100.00). Então, peça vários valores de serviço até chegar no valor total e mostre na tela o valor de cada serviço que será executado. Note que nem sempre será possível utilizar todo orçamento. Quando o valor do serviço estourar ou consumir todo orçamento, o programa deverá avisar que nenhum outro serviço poderá ser pedido."
      ]
    },
    {
      "cell_type": "code",
      "execution_count": null,
      "metadata": {
        "id": "QC49dJu5_eZF"
      },
      "outputs": [],
      "source": [
        "\n",
        "orcamento_total = float(input(\"Digite o valor total do orçamento (deve ser igual ou maior que R$100,00): \"))\n",
        "if orcamento_total < 100:\n",
        "    print(\"O valor do orçamento deve ser no mínimo R$100,00.\")\n",
        "else:\n",
        "    total_usado = 0\n",
        "    servicos = []\n",
        "    while total_usado < orcamento_total:\n",
        "        valor_servico = float(input(\"Digite o valor do serviço (ou 0 para encerrar): R$\"))\n",
        "        if valor_servico == 0:\n",
        "            break\n",
        "        if total_usado + valor_servico > orcamento_total:\n",
        "            print(f\"Não é possível adicionar este serviço. O orçamento já foi ultrapassado.\")\n",
        "            break\n",
        "        total_usado += valor_servico\n",
        "        servicos.append(valor_servico)\n",
        "    if servicos:\n",
        "        print(\"\\nServiços contratados:\")\n",
        "        for i, servico in enumerate(servicos, start=1):\n",
        "            print(f\"Serviço {i}: R${servico:.2f}\")\n",
        "        print(f\"\\nValor total utilizado: R${total_usado:.2f}\")\n",
        "    \n",
        "    if total_usado == orcamento_total:\n",
        "        print(\"\\nO orçamento foi totalmente utilizado!\")\n",
        "    else:\n",
        "        print(f\"\\nAinda restam R${orcamento_total - total_usado:.2f} no orçamento.\")\n"
      ]
    },
    {
      "cell_type": "markdown",
      "metadata": {
        "id": "d1K0qgLuFLql"
      },
      "source": [
        "5. Faça um programa que leia e valide as seguintes informações:  \n",
        "    a. Nome: maior que 3 caracteres;  \n",
        "    b. Idade: entre 0 e 150;   \n",
        "    c. Salário: maior que zero;  \n",
        "    d. Sexo: 'f' ou 'm';  \n",
        "    e. Estado Civil: 's', 'c', 'v', 'd';   \n",
        "    \n",
        "    Caso alguma condição seja violada, peça para o usuário entrar novamente o valor.\n",
        "\n",
        "    Use a função len(string) para saber o tamanho de um texto (número de caracteres)."
      ]
    },
    {
      "cell_type": "code",
      "execution_count": null,
      "metadata": {
        "id": "MhQFW1LgFLKm"
      },
      "outputs": [],
      "source": [
        "\n",
        "def validar_nome():\n",
        "    while True:\n",
        "        nome = input(\"Digite o seu nome (maior que 3 caracteres): \")\n",
        "        if len(nome) > 3:\n",
        "            return nome\n",
        "        else:\n",
        "            print(\"Nome inválido! O nome deve ter mais de 3 caracteres.\")\n",
        "def validar_idade():\n",
        "    while True:\n",
        "        idade = int(input(\"Digite a sua idade (entre 0 e 150): \"))\n",
        "        if 0 <= idade <= 150:\n",
        "            return idade\n",
        "        else:\n",
        "            print(\"Idade inválida! A idade deve ser entre 0 e 150.\")\n",
        "def validar_salario():\n",
        "    while True:\n",
        "        salario = float(input(\"Digite o seu salário (maior que zero): R$\"))\n",
        "        if salario > 0:\n",
        "            return salario\n",
        "        else:\n",
        "            print(\"Salário inválido! O salário deve ser maior que zero.\")\n",
        "def validar_sexo():\n",
        "    while True:\n",
        "        sexo = input(\"Digite o seu sexo (f para feminino, m para masculino): \").lower()\n",
        "        if sexo == 'f' or sexo == 'm':\n",
        "            return sexo\n",
        "        else:\n",
        "            print(\"Sexo inválido! Digite 'f' para feminino ou 'm' para masculino.\")\n",
        "def validar_estado_civil():\n",
        "    while True:\n",
        "        estado_civil = input(\"Digite o seu estado civil (s para solteiro, c para casado, v para viúvo, d para divorciado): \").lower()\n",
        "        if estado_civil in ['s', 'c', 'v', 'd']:\n",
        "            return estado_civil\n",
        "        else:\n",
        "            print(\"Estado civil inválido! Digite 's' para solteiro, 'c' para casado, 'v' para viúvo ou 'd' para divorciado.\")\n",
        "def coletar_informacoes():\n",
        "    nome = validar_nome()\n",
        "    idade = validar_idade()\n",
        "    salario = validar_salario()\n",
        "    sexo = validar_sexo()\n",
        "    estado_civil = validar_estado_civil()\n",
        "    print(\"\\nInformações coletadas:\")\n",
        "    print(f\"Nome: {nome}\")\n",
        "    print(f\"Idade: {idade}\")\n",
        "    print(f\"Salário: R${salario:.2f}\")\n",
        "    print(f\"Sexo: {'Feminino' if sexo == 'f' else 'Masculino'}\")\n",
        "    print(f\"Estado Civil: {'Solteiro' if estado_civil == 's' else 'Casado' if estado_civil == 'c' else 'Viúvo' if estado_civil == 'v' else 'Divorciado'}\")\n",
        "\n",
        "coletar_informacoes()\n"
      ]
    },
    {
      "cell_type": "markdown",
      "metadata": {
        "id": "yNVzswkjFTFE"
      },
      "source": [
        "6. Faça um programa que peça dois números inteiros positivos, base e expoente, calcule e mostre o primeiro número elevado ao segundo número. Não utilize a função ou o operador de potência da linguagem. (faça esse programa utilizando o while)"
      ]
    },
    {
      "cell_type": "code",
      "execution_count": null,
      "metadata": {
        "id": "XC7Odp_LFLIL"
      },
      "outputs": [],
      "source": [
        "\n",
        "def calcular_potencia(base, expoente):\n",
        "    resultado = 1 \n",
        "    contador = 0  \n",
        "    while contador < expoente:\n",
        "        resultado *= base\n",
        "        contador += 1 \n",
        "    return resultado\n",
        "while True:\n",
        "    base = int(input(\"Digite a base (um número inteiro positivo): \"))\n",
        "    if base > 0:\n",
        "        break\n",
        "    else:\n",
        "        print(\"A base deve ser um número inteiro positivo!\")\n",
        "while True:\n",
        "    expoente = int(input(\"Digite o expoente (um número inteiro positivo): \"))\n",
        "    if expoente >= 0:\n",
        "        break\n",
        "    else:\n",
        "        print(\"O expoente deve ser um número inteiro positivo!\")\n",
        "resultado = calcular_potencia(base, expoente)\n",
        "print(f\"{base} elevado a {expoente} é igual a {resultado}\")\n"
      ]
    },
    {
      "cell_type": "markdown",
      "metadata": {
        "id": "DmHku2PQGWdP"
      },
      "source": [
        "7. Faça um programa que peça um número inteiro e mostre a tabuada desse número na tela. Faça utilizando o for. (Essa tarefa poderia ser feita utilizando o while? Por quê?)"
      ]
    },
    {
      "cell_type": "code",
      "execution_count": 3,
      "metadata": {
        "id": "S8pNqfJCFLGP"
      },
      "outputs": [],
      "source": [
        "\n",
        "numero = int(input(\"Digite um número inteiro para ver sua tabuada: \"))\n",
        "print(f\"\\nTabuada de {numero}:\")\n",
        "for i in range(1, 11):  \n",
        "    resultado = numero * i\n",
        "    print(f\"{numero} x {i} = {resultado}\")"
      ]
    },
    {
      "cell_type": "markdown",
      "metadata": {
        "id": "5CmPnnXOGxrv"
      },
      "source": [
        "8. Faça um programa que peça um número inteiro positivo n e mostre os n primeiros números da sequência de Fibonacci.\n"
      ]
    },
    {
      "cell_type": "code",
      "execution_count": null,
      "metadata": {
        "id": "NLQuz53yFLD9"
      },
      "outputs": [],
      "source": [
        "\n",
        "n = int(input(\"Digite um número inteiro positivo para mostrar os n primeiros números da sequência de Fibonacci: \"))\n",
        "if n <= 0:\n",
        "    print(\"Por favor, digite um número inteiro positivo!\")\n",
        "else:\n",
        "    a, b = 0, 1\n",
        "    print(f\"Os {n} primeiros números da sequência de Fibonacci são:\")\n",
        "    for _ in range(n):\n",
        "        print(a, end=\" \")  \n",
        "        a, b = b, a + b  \n"
      ]
    },
    {
      "cell_type": "markdown",
      "metadata": {
        "id": "_68EdPiEHQNU"
      },
      "source": [
        "9. Faça um programa que peça um número inteiro não negativo n e mostre o valor de n fatorial (n!)."
      ]
    },
    {
      "cell_type": "code",
      "execution_count": null,
      "metadata": {
        "id": "IsYu8PnyFLBR"
      },
      "outputs": [],
      "source": [
        "def fatorial(n):\n",
        "    resultado = 1\n",
        "    for i in range(1, n + 1):\n",
        "        resultado *= i\n",
        "    return resultado\n",
        "n = int(input(\"Digite um número inteiro não negativo: \"))\n",
        "if n < 0:\n",
        "    print(\"Número inválido! Por favor, insira um número não negativo.\")\n",
        "else:\n",
        "    print(f\"{n}! = {fatorial(n)}\")\n"
      ]
    },
    {
      "cell_type": "markdown",
      "metadata": {
        "id": "idPGZDK9HkLF"
      },
      "source": [
        "10. Faça um programa que peça um número inteiro e determine se esse número é um número primo. (Um número é primo se ele for divisível somente por ele mesmo e por 1)."
      ]
    },
    {
      "cell_type": "code",
      "execution_count": null,
      "metadata": {
        "id": "Uxo8UEb7FK-i"
      },
      "outputs": [],
      "source": [
        "def eh_primo(n):\n",
        "    if n <= 1:\n",
        "        return False\n",
        "    for i in range(2, int(n**0.5) + 1):\n",
        "        if n % i == 0:\n",
        "            return False\n",
        "    return True\n",
        "n = int(input(\"Digite um número inteiro: \"))\n",
        "if eh_primo(n):\n",
        "    print(f\"{n} é um número primo.\")\n",
        "else:\n",
        "    print(f\"{n} não é um número primo.\")\n"
      ]
    },
    {
      "cell_type": "markdown",
      "metadata": {
        "id": "LiN-wnyRMoOi"
      },
      "source": [
        "11. Faça um programa que peça dois números inteiros positivos e mostra o máximo divisor comum (MDC) e o mínimo múltiplo comum (MMC) desses números."
      ]
    },
    {
      "cell_type": "code",
      "execution_count": 7,
      "metadata": {
        "id": "MPZDueOFFK8E"
      },
      "outputs": [],
      "source": [
        "def calcular_mdc(a, b):\n",
        "    while b != 0:\n",
        "        a, b = b, a % b\n",
        "    return a\n",
        "def calcular_mmc(a, b):\n",
        "    return (a * b) // calcular_mdc(a, b)\n",
        "def main():\n",
        "    print(\"Digite dois números inteiros positivos:\")\n",
        "    try:\n",
        "        num1 = int(input(\"Primeiro número: \"))\n",
        "        num2 = int(input(\"Segundo número: \"))\n",
        "        if num1 <= 0 or num2 <= 0:\n",
        "            print(\"Os números devem ser inteiros positivos.\")\n",
        "            return\n",
        "        mdc = calcular_mdc(num1, num2)\n",
        "        mmc = calcular_mmc(num1, num2)\n",
        "        print(f\"MDC de {num1} e {num2} é: {mdc}\")\n",
        "        print(f\"MMC de {num1} e {num2} é: {mmc}\")\n",
        "    except ValueError:\n",
        "        print(\"Por favor, insira apenas números inteiros.\")\n",
        "if __name__ == \"__main__\":\n",
        "    main()\n"
      ]
    },
    {
      "cell_type": "markdown",
      "metadata": {
        "id": "U83IiC1VM6dc"
      },
      "source": [
        "12. Faça um programa que peça a razão e primeiro termo de uma PA (progressão aritmética). Peça um número inteiro positivo n e mostra os n primeiros termos dessa PA."
      ]
    },
    {
      "cell_type": "code",
      "execution_count": null,
      "metadata": {
        "id": "E1lkmJ0nM6L3"
      },
      "outputs": [],
      "source": [
        "def main():\n",
        "    try:\n",
        "        primeiro_termo = int(input(\"Digite o primeiro termo da PA: \"))\n",
        "        razao = int(input(\"Digite a razão da PA: \"))\n",
        "        n = int(input(\"Digite quantos termos deseja ver (n): \"))\n",
        "\n",
        "        if n <= 0:\n",
        "            print(\"O número de termos deve ser um inteiro positivo.\")\n",
        "            return\n",
        "\n",
        "        print(f\"\\nOs {n} primeiros termos da PA são:\")\n",
        "        for i in range(n):\n",
        "            termo = primeiro_termo + i * razao\n",
        "            print(termo, end=' ')\n",
        "    except ValueError:\n",
        "        print(\"Por favor, insira apenas números inteiros.\")\n",
        "if __name__ == \"__main__\":\n",
        "    main()\n"
      ]
    },
    {
      "cell_type": "markdown",
      "metadata": {
        "id": "aJH4EAojNlHq"
      },
      "source": [
        "13. Faça um programa que peça a razão e terceiro termo de uma PA (progressão aritmética). Peça um número inteiro positivo n (maior do que 3) e mostra os n primeiros termos dessa PA."
      ]
    },
    {
      "cell_type": "code",
      "execution_count": null,
      "metadata": {
        "id": "lt_ClxbqNzlW"
      },
      "outputs": [],
      "source": [
        "def main():\n",
        "    try:\n",
        "        razao = int(input(\"Digite a razão da PA: \"))\n",
        "        terceiro_termo = int(input(\"Digite o terceiro termo da PA: \"))\n",
        "        n = int(input(\"Digite quantos termos deseja ver (n > 3): \"))\n",
        "        if n <= 3:\n",
        "            print(\"O número de termos deve ser maior que 3.\")\n",
        "            return\n",
        "        primeiro_termo = terceiro_termo - 2 * razao\n",
        "        print(f\"\\nOs {n} primeiros termos da PA são:\")\n",
        "        for i in range(n):\n",
        "            termo = primeiro_termo + i * razao\n",
        "            print(termo, end=' ')\n",
        "    except ValueError:\n",
        "        print(\"Por favor, insira apenas números inteiros.\")\n",
        "if __name__ == \"__main__\":\n",
        "    main()\n"
      ]
    },
    {
      "cell_type": "markdown",
      "metadata": {
        "id": "EBeJ8-ufNxLU"
      },
      "source": [
        "14. Faça um programa que peça a razão e quarto termo de uma PA (progressão aritmética). Peça um número inteiro positivo n e mostra a soma dos n primeiros termos dessa PA."
      ]
    },
    {
      "cell_type": "code",
      "execution_count": null,
      "metadata": {
        "id": "MN9jTh8rNoYw"
      },
      "outputs": [],
      "source": [
        "def main():\n",
        "    try:\n",
        "        razao = int(input(\"Digite a razão da PA: \"))\n",
        "        quarto_termo = int(input(\"Digite o quarto termo da PA: \"))\n",
        "        n = int(input(\"Digite a quantidade de termos (n > 0): \"))\n",
        "        if n <= 0:\n",
        "            print(\"O número de termos deve ser positivo.\")\n",
        "            return\n",
        "        primeiro_termo = quarto_termo - 3 * razao\n",
        "        soma = (n * (2 * primeiro_termo + (n - 1) * razao)) // 2\n",
        "        print(f\"\\nA soma dos {n} primeiros termos da PA é: {soma}\")\n",
        "    except ValueError:\n",
        "        print(\"Por favor, insira apenas números inteiros.\")\n",
        "if __name__ == \"__main__\":\n",
        "    main()"
      ]
    },
    {
      "cell_type": "markdown",
      "metadata": {
        "id": "e8XG0-muNc82"
      },
      "source": [
        "15. Faça um programa que peça a razão e primeiro termo de uma PG (progressão geométrica). Peça um número inteiro positivo n e mostra os n primeiros termos dessa PG."
      ]
    },
    {
      "cell_type": "code",
      "execution_count": null,
      "metadata": {
        "id": "IWuwt1CANoVT"
      },
      "outputs": [],
      "source": [
        "def main():\n",
        "    try:\n",
        "        primeiro_termo = int(input(\"Digite o primeiro termo da PG: \"))\n",
        "        razao = int(input(\"Digite a razão da PG: \"))\n",
        "        n = int(input(\"Digite a quantidade de termos (n > 0): \"))\n",
        "        if n <= 0:\n",
        "            print(\"O número de termos deve ser positivo.\")\n",
        "            return\n",
        "        print(f\"\\nOs {n} primeiros termos da PG são:\")\n",
        "        for i in range(n):\n",
        "            termo = primeiro_termo * (razao ** i)\n",
        "            print(termo, end=' ')\n",
        "    except ValueError:\n",
        "        print(\"Por favor, insira apenas números inteiros.\")\n",
        "if __name__ == \"__main__\":\n",
        "    main()\n"
      ]
    },
    {
      "cell_type": "markdown",
      "metadata": {
        "id": "OIGtwqcDOFlS"
      },
      "source": [
        "16. Faça um programa que peça a razão e terceiro termo de uma PG (progressão geométrica). Peça um número inteiro positivo n (maior do que 3) e mostra os n primeiros termos e a soma dos n primeiros termos dessa PG."
      ]
    },
    {
      "cell_type": "code",
      "execution_count": null,
      "metadata": {
        "id": "AdtltL0oNoR1"
      },
      "outputs": [],
      "source": [
        "def main():\n",
        "    try:\n",
        "        razao = int(input(\"Digite a razão da PG: \"))\n",
        "        terceiro_termo = int(input(\"Digite o terceiro termo da PG: \"))\n",
        "        n = int(input(\"Digite a quantidade de termos (n > 3): \"))\n",
        "        if n <= 3:\n",
        "            print(\"O número de termos deve ser maior que 3.\")\n",
        "            return\n",
        "        primeiro_termo = terceiro_termo // (razao ** 2)\n",
        "        termos = [primeiro_termo * (razao ** i) for i in range(n)]\n",
        "        soma = primeiro_termo * (razao ** n - 1) // (razao - 1) if razao != 1 else primeiro_termo * n\n",
        "        print(f\"\\nOs {n} primeiros termos da PG são:\")\n",
        "        for termo in termos:\n",
        "            print(termo, end=' ')\n",
        "        print(f\"\\nSoma dos {n} primeiros termos da PG: {soma}\")\n",
        "    except ValueError:\n",
        "        print(\"Por favor, insira apenas números inteiros.\")\n",
        "if __name__ == \"__main__\":\n",
        "    main()\n"
      ]
    },
    {
      "cell_type": "markdown",
      "metadata": {
        "id": "SSZ1RDCZOE0U"
      },
      "source": [
        "17. Faça um programa que peça o valor presente (capital inicial), a taxa de juros mensais (i) e o período em meses(n). Então, o programa deve calcular e mostrar a evolução do valor futuro (montante) a cada um dos n meses."
      ]
    },
    {
      "cell_type": "code",
      "execution_count": null,
      "metadata": {
        "id": "aSbMohoPPVTQ"
      },
      "outputs": [],
      "source": [
        "def main():\n",
        "    try:\n",
        "        capital_inicial = float(input(\"Digite o valor presente (capital inicial): \"))\n",
        "        taxa_juros = float(input(\"Digite a taxa de juros mensal (em %): \"))\n",
        "        n = int(input(\"Digite o período em meses: \"))\n",
        "        if n <= 0:\n",
        "            print(\"O período deve ser um número inteiro positivo.\")\n",
        "            return\n",
        "        taxa_decimal = taxa_juros / 100\n",
        "        print(\"\\nEvolução do montante mês a mês:\")\n",
        "        for mes in range(1, n + 1):\n",
        "            montante = capital_inicial * (1 + taxa_decimal) ** mes\n",
        "            print(f\"Mês {mes}: R$ {montante:.2f}\")\n",
        "    except ValueError:\n",
        "        print(\"Por favor, insira valores numéricos válidos.\")\n",
        "if __name__ == \"__main__\":\n",
        "    main()\n"
      ]
    },
    {
      "cell_type": "markdown",
      "metadata": {
        "id": "Ru07Ip92PQaj"
      },
      "source": [
        "18. Faça um programa que pede o valor que será depositado todos o meses, o valor da taxa de juros mensal e o total de meses (n) . O programa deverá mostrar na tela o valor do montante e o valor dos juros em cada um dos n meses."
      ]
    },
    {
      "cell_type": "code",
      "execution_count": null,
      "metadata": {
        "id": "PimDkbIHOsNb"
      },
      "outputs": [],
      "source": [
        "def main():\n",
        "    try:\n",
        "        deposito_mensal = float(input(\"Digite o valor que será depositado todo mês: \"))\n",
        "        taxa_juros = float(input(\"Digite a taxa de juros mensal (em %): \"))\n",
        "        n = int(input(\"Digite o total de meses: \"))\n",
        "        if n <= 0:\n",
        "            print(\"O número de meses deve ser positivo.\")\n",
        "            return\n",
        "        taxa_decimal = taxa_juros / 100\n",
        "        montante = 0\n",
        "        print(\"\\nMês | Montante acumulado | Juros ganhos no mês\")\n",
        "        for mes in range(1, n + 1):\n",
        "            juros = montante * taxa_decimal\n",
        "            montante += juros + deposito_mensal\n",
        "            print(f\"{mes:>3} | R$ {montante:17.2f} | R$ {juros:17.2f}\")\n",
        "    except ValueError:\n",
        "        print(\"Por favor, insira valores válidos.\")\n",
        "if __name__ == \"__main__\":\n",
        "    main()\n"
      ]
    },
    {
      "cell_type": "markdown",
      "metadata": {
        "id": "VwM0pkrrGmrp"
      },
      "source": [
        "19. Faça um programa que pede o número n de provas e as n notas e calcula a média e o desvio padrão dessas notas."
      ]
    },
    {
      "cell_type": "code",
      "execution_count": null,
      "metadata": {
        "id": "SNU2-aUGM6IR"
      },
      "outputs": [],
      "source": [
        "import math\n",
        "def main():\n",
        "    try:\n",
        "        n = int(input(\"Digite o número de provas: \"))\n",
        "        if n <= 0:\n",
        "            print(\"O número de provas deve ser positivo.\")\n",
        "            return\n",
        "        notas = []\n",
        "        for i in range(1, n + 1):\n",
        "            nota = float(input(f\"Digite a nota da prova {i}: \"))\n",
        "            notas.append(nota)\n",
        "        media = sum(notas) / n\n",
        "        variancia = sum((x - media) ** 2 for x in notas) / n\n",
        "        desvio_padrao = math.sqrt(variancia)\n",
        "        print(f\"\\nMédia das notas: {media:.2f}\")\n",
        "        print(f\"Desvio padrão das notas: {desvio_padrao:.2f}\")\n",
        "    except ValueError:\n",
        "        print(\"Por favor, insira valores numéricos válidos.\")\n",
        "if __name__ == \"__main__\":\n",
        "    main()\n"
      ]
    },
    {
      "cell_type": "markdown",
      "metadata": {
        "id": "vi2enrhTJYLc"
      },
      "source": [
        "20. Faça um programa que peça um número inteiro positivo e mostra esse número no sistema binário."
      ]
    },
    {
      "cell_type": "code",
      "execution_count": 7,
      "metadata": {
        "id": "p27r_CSPM6FW"
      },
      "outputs": [],
      "source": [
        "def main():\n",
        "    try:\n",
        "        num = int(input(\"Digite um número inteiro positivo: \"))\n",
        "        if num < 0:\n",
        "            print(\"O número deve ser inteiro e positivo.\")\n",
        "            return\n",
        "        binario = bin(num)[2:]\n",
        "        print(f\"O número {num} em binário é: {binario}\")\n",
        "    except ValueError:\n",
        "        print(\"Por favor, insira um número inteiro válido.\")\n",
        "if __name__ == \"__main__\":\n",
        "    main()\n"
      ]
    },
    {
      "cell_type": "code",
      "execution_count": null,
      "metadata": {
        "id": "esbcSv8uM6CI"
      },
      "outputs": [],
      "source": []
    },
    {
      "cell_type": "code",
      "execution_count": 7,
      "metadata": {
        "id": "cH8TN_sbFK5U"
      },
      "outputs": [],
      "source": []
    },
    {
      "cell_type": "code",
      "execution_count": null,
      "metadata": {
        "id": "RRZDeToTFK2Y"
      },
      "outputs": [],
      "source": []
    },
    {
      "cell_type": "code",
      "execution_count": null,
      "metadata": {
        "id": "nuMTnHU1FKzU"
      },
      "outputs": [],
      "source": []
    },
    {
      "cell_type": "code",
      "execution_count": null,
      "metadata": {
        "id": "s0hUDaGiFKwb"
      },
      "outputs": [],
      "source": []
    },
    {
      "cell_type": "code",
      "execution_count": null,
      "metadata": {
        "id": "I8s7JjiCFKtR"
      },
      "outputs": [],
      "source": []
    },
    {
      "cell_type": "code",
      "execution_count": null,
      "metadata": {
        "id": "EUJtq8y9FKTU"
      },
      "outputs": [],
      "source": []
    },
    {
      "cell_type": "code",
      "execution_count": null,
      "metadata": {
        "id": "MSN-A2kx_eWB"
      },
      "outputs": [],
      "source": []
    },
    {
      "cell_type": "code",
      "execution_count": null,
      "metadata": {
        "id": "DnZLBgOD_eT7"
      },
      "outputs": [],
      "source": []
    }
  ],
  "metadata": {
    "colab": {
      "provenance": []
    },
    "kernelspec": {
      "display_name": "Python 3",
      "name": "python3"
    },
    "language_info": {
      "codemirror_mode": {
        "name": "ipython",
        "version": 3
      },
      "file_extension": ".py",
      "mimetype": "text/x-python",
      "name": "python",
      "nbconvert_exporter": "python",
      "pygments_lexer": "ipython3",
      "version": "3.12.3"
    }
  },
  "nbformat": 4,
  "nbformat_minor": 0
}
